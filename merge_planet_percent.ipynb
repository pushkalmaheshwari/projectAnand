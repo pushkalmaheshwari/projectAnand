{
 "cells": [
  {
   "cell_type": "code",
   "execution_count": 129,
   "metadata": {},
   "outputs": [
    {
     "name": "stdout",
     "output_type": "stream",
     "text": [
      "<class 'pandas.core.frame.DataFrame'>\n",
      "Int64Index: 467362 entries, 1 to 467362\n",
      "Columns: 1145 entries, Unnamed: 0_x to Ket_SSL_VEN\n",
      "dtypes: float64(12), int64(1), uint8(1132)\n",
      "memory usage: 554.5 MB\n"
     ]
    }
   ],
   "source": [
    "import pandas as pd\n",
    "import numpy as np\n",
    "from datetime import datetime\n",
    "from datetime import time\n",
    "import matplotlib.pyplot as plt\n",
    "\n",
    "nm = pd.read_csv('/Users/maheshwarip/ProjectAnand/nifty_minper.csv', low_memory=False)\n",
    "\n",
    "p_pos = pd.read_csv('/Users/maheshwarip/ProjectAnand/5_year_corrected.csv', low_memory=False)\n",
    "\n",
    "p_pos['DateandTime'] =  pd.to_datetime( p_pos['DateandTime'], infer_datetime_format=True )\n",
    "nm['DateandTime'] =  pd.to_datetime( nm['DateandTime'], infer_datetime_format=True )\n",
    "p_pos.loc[:,'DateandTime'] =  p_pos['DateandTime'].dt.round(freq='min') \n",
    "\n",
    "combined_nm_ppos = pd.merge(p_pos,nm, on='DateandTime')\n",
    "combined_nm_ppos.drop(['DATE','TIME','dummy','ASC_Deg','Sun_Deg','Moon_Deg','Mar_Deg','Mer_Deg','Jup_Deg','Ven_Deg','Sat_Deg','Rah_Deg','Ket_Deg','DateandTime'],1, inplace=True)\n",
    "combined_nm_ppos.drop(combined_nm_ppos.columns[[61]],1, inplace=True)\n",
    "combined_nm_ppos_dummies = pd.get_dummies(data=combined_nm_ppos)\n",
    "combined_nm_ppos_dummies = combined_nm_ppos_dummies.dropna( axis=0, subset=['return'])\n",
    "# combined_nm_ppos_dummies.drop(['ASC_Rashi', 'ASC_Nakshatra', 'ASC_NL', 'ASC_SL' , 'ASC_SSL', 'Sun_Rashi', 'Sun_Nakshatra', 'Sun_NL', 'Sun_SL' , 'Sun_SSL', 'Moon_Rashi', 'Moon_Nakshatra', 'Moon_NL', 'Moon_SL' , 'Moon_SSL', 'Mar_Rashi', 'Mar_Nakshatra', 'Mar_NL', 'Mar_SL' , 'Mar_SSL', 'Mer_Rashi', 'Mer_Nakshatra', 'Mer_NL', 'Mer_SL' , 'Mer_SSL', 'Jup_Rashi','Jup_Nakshatra', 'Jup_NL', 'Jup_SL' , 'Jup_SSL', 'Ven_Rashi', 'Ven_Nakshatra', 'Ven_NL', 'Ven_SL' , 'Ven_SSL', 'Sat_Rashi', 'Sat_Nakshatra', 'Sat_NL', 'Sat_SL' , 'Sat_SSL', 'Rah_Rashi', 'Rah_Nakshatra', 'Rah_NL', 'Rah_SL' , 'Rah_SSL','Ket_Rashi', 'Ket_Nakshatra', 'Ket_NL', 'Ket_SL' , 'Ket_SSL'],1, inplace=True)\n",
    "combined_nm_ppos_dummies.to_csv('/Users/maheshwarip/ProjectAnand/combined_nm_ppos.csv')\n",
    "combined_nm_ppos_dummies.info()\n"
   ]
  },
  {
   "cell_type": "code",
   "execution_count": 130,
   "metadata": {
    "scrolled": true
   },
   "outputs": [],
   "source": [
    "\n",
    "\n",
    "#print(nm[(nm['DateandTime'] > '2015-11-10 15:27:00') & (nm['DateandTime'] < '2015-11-15 10:10:00')] )\n",
    "#print(p_pos[(p_pos['DateandTime'] > '2015-11-10 15:27:00') & (p_pos['DateandTime'] < '2015-11-15 10:10:00')] )\n",
    "#print(combined_nm_ppos[(combined_nm_ppos['DateandTime'] > '2017-12-10 15:27:00') & (combined_nm_ppos['DateandTime'] < '2017-12-31 10:10:00')] )\n",
    "\n",
    "\n",
    "\n",
    "# p_pos['DateandTime'] =  pd.to_datetime( p_pos['DateandTime'], infer_datetime_format=True )\n",
    "\n",
    "#p_pos.loc[ :,'DateandTime'] = p_pos['DateandTime'].dt.round(freq='min') \n",
    "\n",
    "# p_pos.loc[:,'DateandTime'] =  p_pos['DateandTime'].dt.round(freq='min') \n",
    "\n",
    "#now just take values from 8:59 am  to 4:01 pm \n",
    "#p_pos = p_pos[p_pos['DateandTime'].dt.time.between(time(9,15,0), time(15,30,0))].reset_index(drop=True)\n",
    "\n",
    "#print(p_pos[(p_pos['DateandTime'] > '2015-11-10 15:27:00')]['DateandTime'])\n",
    "\n",
    "\n"
   ]
  },
  {
   "cell_type": "code",
   "execution_count": null,
   "metadata": {
    "collapsed": true
   },
   "outputs": [],
   "source": []
  }
 ],
 "metadata": {
  "kernelspec": {
   "display_name": "Python 3",
   "language": "python",
   "name": "python3"
  },
  "language_info": {
   "codemirror_mode": {
    "name": "ipython",
    "version": 3
   },
   "file_extension": ".py",
   "mimetype": "text/x-python",
   "name": "python",
   "nbconvert_exporter": "python",
   "pygments_lexer": "ipython3",
   "version": "3.6.3"
  }
 },
 "nbformat": 4,
 "nbformat_minor": 2
}
