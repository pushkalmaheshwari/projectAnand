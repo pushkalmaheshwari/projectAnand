{
 "cells": [
  {
   "cell_type": "code",
   "execution_count": null,
   "metadata": {
    "collapsed": true
   },
   "outputs": [],
   "source": [
    "import pandas as pd\n",
    "import numpy as np\n",
    "from datetime import datetime\n",
    "from datetime import time\n",
    "import matplotlib.pyplot as plt"
   ]
  },
  {
   "cell_type": "code",
   "execution_count": null,
   "metadata": {},
   "outputs": [],
   "source": [
    "\n",
    "column_names = [\"DATE\", \"TIME\", \"ASC_RawValue\", \"ASC_Rashi\", \"ASC_Deg\", \"ASC_Nakshatra\", \"ASC_NL\", \"ASC_SL\" , \"ASC_SSL\",\"Sun_RawValue\", \"Sun_Rashi\", \"Sun_Deg\", \"Sun_Nakshatra\", \"Sun_NL\", \"Sun_SL\" , \"Sun_SSL\",\"Moon_RawValue\", \"Moon_Rashi\", \"Moon_Deg\", \"Moon_Nakshatra\", \"Moon_NL\", \"Moon_SL\" , \"Moon_SSL\",\n",
    "\"Mar_RawValue\", \"Mar_Rashi\", \"Mar_Deg\", \"Mar_Nakshatra\", \"Mar_NL\", \"Mar_SL\" , \"Mar_SSL\",\"Mer_RawValue\", \"Mer_Rashi\", \"Mer_Deg\", \"Mer_Nakshatra\", \"Mer_NL\", \"Mer_SL\" , \"Mer_SSL\",\n",
    "\"Jup_RawValue\", \"Jup_Rashi\", \"Jup_Deg\", \"Jup_Nakshatra\", \"Jup_NL\", \"Jup_SL\" , \"Jup_SSL\",\"Ven_RawValue\", \"Ven_Rashi\", \"Ven_Deg\", \"Ven_Nakshatra\", \"Ven_NL\", \"Ven_SL\" , \"Ven_SSL\",\n",
    "\"Sat_RawValue\", \"Sat_Rashi\", \"Sat_Deg\", \"Sat_Nakshatra\", \"Sat_NL\", \"Sat_SL\" , \"Sat_SSL\",\"Rah_RawValue\", \"Rah_Rashi\", \"Rah_Deg\", \"Rah_Nakshatra\", \"Rah_NL\", \"Rah_SL\" , \"Rah_SSL\",\n",
    "\"Ket_RawValue\", \"Ket_Rashi\", \"Ket_Deg\", \"Ket_Nakshatra\", \"Ket_NL\", \"Ket_SL\" , \"Ket_SSL\",\"dummy\"]\n",
    "\n",
    "p_pos = pd.read_csv('/Users/maheshwarip/ProjectAnand/5_year.csv', header=None)\n",
    "\n",
    "p_pos.columns = column_names\n",
    "\n",
    "#create date time joining date and time. later will come handy in comparing values accross sheets\n",
    "p_pos['DateandTime'] =  pd.to_datetime( p_pos['DATE'].map(str) + \" \" + p_pos['TIME'], infer_datetime_format=True )\n",
    "\n",
    "#now just take values from 8:59 am  to 4:01 pm \n",
    "p_pos = p_pos[p_pos['DateandTime'].dt.time.between(time(9,15,0), time(15,30,0))].reset_index(drop=True)\n",
    "\n",
    "\n",
    "p_pos.to_csv('/Users/maheshwarip/ProjectAnand/5_year_corrected.csv')\n",
    "\n",
    "p_pos.columns\n",
    "    \n",
    "p_pos.describe()\n",
    "\n",
    "p_pos.info()\n",
    "\n",
    "\n"
   ]
  },
  {
   "cell_type": "code",
   "execution_count": null,
   "metadata": {
    "collapsed": true
   },
   "outputs": [],
   "source": []
  }
 ],
 "metadata": {
  "kernelspec": {
   "display_name": "Python 3",
   "language": "python",
   "name": "python3"
  },
  "language_info": {
   "codemirror_mode": {
    "name": "ipython",
    "version": 3
   },
   "file_extension": ".py",
   "mimetype": "text/x-python",
   "name": "python",
   "nbconvert_exporter": "python",
   "pygments_lexer": "ipython3",
   "version": "3.6.3"
  }
 },
 "nbformat": 4,
 "nbformat_minor": 2
}
