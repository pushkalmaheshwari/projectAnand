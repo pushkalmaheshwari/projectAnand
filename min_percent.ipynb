{
 "cells": [
  {
   "cell_type": "code",
   "execution_count": 10,
   "metadata": {},
   "outputs": [],
   "source": [
    "import pandas as pd\n",
    "import numpy as np\n",
    "from datetime import datetime\n",
    "from datetime import time"
   ]
  },
  {
   "cell_type": "code",
   "execution_count": 11,
   "metadata": {},
   "outputs": [
    {
     "name": "stdout",
     "output_type": "stream",
     "text": [
      "<class 'pandas.core.frame.DataFrame'>\n",
      "RangeIndex: 468969 entries, 0 to 468968\n",
      "Data columns (total 6 columns):\n",
      "Unnamed: 0     468969 non-null int64\n",
      "DATE           468969 non-null int64\n",
      "TIME           468969 non-null object\n",
      "PRICE          468969 non-null float64\n",
      "DateandTime    468969 non-null object\n",
      "return         468968 non-null float64\n",
      "dtypes: float64(2), int64(2), object(2)\n",
      "memory usage: 21.5+ MB\n",
      "Unnamed: 0                  398057\n",
      "DATE                      20171228\n",
      "TIME                         15:32\n",
      "PRICE                      10477.9\n",
      "DateandTime    2017-12-28 15:32:00\n",
      "return                  0.00104137\n",
      "Name: 468968, dtype: object\n"
     ]
    }
   ],
   "source": [
    "nifty = pd.read_csv('/Users/maheshwarip/ProjectAnand/niftysorted.csv')\n",
    "\n",
    "nifty_return = nifty[['PRICE']]\n",
    "\n",
    "nifty['return'] = nifty_return.pct_change()\n",
    "\n",
    "nifty.head()\n",
    "\n",
    "nifty.columns\n",
    "    \n",
    "nifty.describe()\n",
    "\n",
    "nifty.info()\n",
    "\n",
    "print( nifty.iloc[-1,])\n",
    "\n",
    "min_percent = nifty[['DateandTime','return','PRICE']]\n",
    "\n",
    "min_percent.loc[:,'DateandTime'] = pd.to_datetime(min_percent['DateandTime'],infer_datetime_format=True)\n",
    "\n",
    "min_percent.to_csv('/Users/maheshwarip/ProjectAnand/nifty_minper.csv')\n",
    "\n",
    "min_percent.info()"
   ]
  }
 ],
 "metadata": {
  "kernelspec": {
   "display_name": "Python 3",
   "language": "python",
   "name": "python3"
  },
  "language_info": {
   "codemirror_mode": {
    "name": "ipython",
    "version": 3
   },
   "file_extension": ".py",
   "mimetype": "text/x-python",
   "name": "python",
   "nbconvert_exporter": "python",
   "pygments_lexer": "ipython3",
   "version": "3.6.3"
  }
 },
 "nbformat": 4,
 "nbformat_minor": 2
}
